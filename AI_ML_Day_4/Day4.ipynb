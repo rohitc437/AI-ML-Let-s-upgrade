{
 "cells": [
  {
   "cell_type": "markdown",
   "metadata": {},
   "source": [
    "# Question 1 :\n",
    "Research on whether addition, subtraction, multiplication, division, floor division and modulo\n",
    "operations be performed on complex numbers. Based on your study, implement a Python\n",
    "program to demonstrate these operations.\n"
   ]
  },
  {
   "cell_type": "code",
   "execution_count": 4,
   "metadata": {},
   "outputs": [
    {
     "name": "stdout",
     "output_type": "stream",
     "text": [
      "(2+2j)\n",
      "4j\n",
      "-2\n",
      "12\n",
      "35\n",
      "4j\n",
      "-1j\n",
      "0.7142857142857143\n",
      "0\n"
     ]
    }
   ],
   "source": [
    "a=2\n",
    "b=2j\n",
    "x=5\n",
    "y=7\n",
    "\n",
    "print(a+b)\n",
    "print(a*b)\n",
    "print(x-y)\n",
    "print(x+y)\n",
    "print(x*y)\n",
    "print(a*b)\n",
    "print(a/b)\n",
    "# print(a//b) // can't take floor of complex number\n",
    "print(x/y)\n",
    "print(x//y)\n"
   ]
  },
  {
   "cell_type": "markdown",
   "metadata": {},
   "source": [
    "# Question 2 :\n",
    "Research on range() functions and its parameters. Create a markdown cell and write in your own\n",
    "words (no copy-paste from google please) what you understand about it. Implement a small\n",
    "program of your choice on the same.\n"
   ]
  },
  {
   "cell_type": "markdown",
   "metadata": {},
   "source": [
    "## range () function"
   ]
  },
  {
   "cell_type": "markdown",
   "metadata": {},
   "source": [
    "__It is a very popular and widely used function in Python, especially when you are working with predominantly for loops and sometimes with while loops. It returns a sequence of numbers and is immutable (whose value is fixed). The range function takes one or at most three arguments, namely the start and a stop value along with a step size.__"
   ]
  },
  {
   "cell_type": "markdown",
   "metadata": {},
   "source": [
    "--The range() function can be represented in three different ways\n",
    "* range(stop_value) : This by default considers the starting point as zero.\n",
    "* range(start_value, stop_value) : This generates the sequence based on the start and stop value.\n",
    "* range(start_value, stop_value, step_size): It generates the sequence by incrementing the start value using the step size until it reaches the stop value."
   ]
  },
  {
   "cell_type": "markdown",
   "metadata": {},
   "source": [
    "# program of range() fun\n",
    "for seq in range(10):\n",
    "    print(seq)"
   ]
  },
  {
   "cell_type": "markdown",
   "metadata": {},
   "source": [
    "# Question 3:\n",
    " Consider two numbers. Perform their subtraction and if the result of subtraction is greater than\n",
    "25, print their multiplication result else print their division result.\n"
   ]
  },
  {
   "cell_type": "code",
   "execution_count": 29,
   "metadata": {},
   "outputs": [
    {
     "name": "stdout",
     "output_type": "stream",
     "text": [
      "mul is = 2100\n"
     ]
    }
   ],
   "source": [
    "a=60\n",
    "b=35\n",
    "sub=a-b\n",
    "\n",
    "if sub >= 25:\n",
    "     print(\"mul is =\",a*b)\n",
    "else:\n",
    "    print(\"div is =\", a/b)"
   ]
  },
  {
   "cell_type": "markdown",
   "metadata": {},
   "source": [
    "# Question 4:\n",
    "Consider a list of 10 elements of integer values. If the number in the list is divisible by 2, print the\n",
    "result as \"square of that number minus 2\". "
   ]
  },
  {
   "cell_type": "code",
   "execution_count": 36,
   "metadata": {},
   "outputs": [
    {
     "name": "stdout",
     "output_type": "stream",
     "text": [
      "2\n",
      "14\n",
      "34\n",
      "62\n",
      "98\n"
     ]
    }
   ],
   "source": [
    " l = [1,2,3,4,5,6,7,8,9,10]\n",
    "for i in l:\n",
    "        if i%2 == 0:\n",
    "            print(i**2-2)"
   ]
  },
  {
   "cell_type": "markdown",
   "metadata": {},
   "source": [
    "# Question 5:\n",
    "Consider a list of 10 elements. Print all the elements in the list which are greater than 7 when that\n",
    "number is divided 2."
   ]
  },
  {
   "cell_type": "code",
   "execution_count": 37,
   "metadata": {},
   "outputs": [
    {
     "name": "stdout",
     "output_type": "stream",
     "text": [
      "15\n",
      "71\n",
      "86\n",
      "99\n",
      "7\n"
     ]
    }
   ],
   "source": [
    "x = [1,5,3,15,71,86,99,4,2,7]\n",
    "for i in x:\n",
    "    if i >= 7:\n",
    "        print(i)\n"
   ]
  },
  {
   "cell_type": "code",
   "execution_count": null,
   "metadata": {},
   "outputs": [],
   "source": []
  }
 ],
 "metadata": {
  "kernelspec": {
   "display_name": "Python 3",
   "language": "python",
   "name": "python3"
  },
  "language_info": {
   "codemirror_mode": {
    "name": "ipython",
    "version": 3
   },
   "file_extension": ".py",
   "mimetype": "text/x-python",
   "name": "python",
   "nbconvert_exporter": "python",
   "pygments_lexer": "ipython3",
   "version": "3.7.6"
  }
 },
 "nbformat": 4,
 "nbformat_minor": 4
}
