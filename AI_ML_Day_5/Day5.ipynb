{
 "cells": [
  {
   "cell_type": "markdown",
   "metadata": {},
   "source": [
    "# Question 1 :\n",
    "Write a Python program to find the first 20 non-even prime natural numbers.\n"
   ]
  },
  {
   "cell_type": "code",
   "execution_count": 3,
   "metadata": {},
   "outputs": [
    {
     "name": "stdout",
     "output_type": "stream",
     "text": [
      "3 is prime number\n",
      "5 is prime number\n",
      "7 is prime number\n",
      "9 is prime number\n",
      "11 is prime number\n",
      "13 is prime number\n",
      "15 is prime number\n",
      "17 is prime number\n",
      "19 is prime number\n"
     ]
    }
   ],
   "source": [
    "for i in range(2,21):\n",
    "    if i%2 != 0:\n",
    "        print(i,\"is prime number\")\n",
    "    else:\n",
    "        continue"
   ]
  },
  {
   "cell_type": "markdown",
   "metadata": {},
   "source": [
    "# Question 2 :\n",
    "Write a Python program to implement 15 functions of string.\n"
   ]
  },
  {
   "cell_type": "code",
   "execution_count": 42,
   "metadata": {},
   "outputs": [
    {
     "name": "stdout",
     "output_type": "stream",
     "text": [
      "Rohitkumar\n",
      "Rohitkumarchaudhari @bro\n",
      "2\n",
      "haud\n",
      "dhari @\n",
      "tku\n",
      "Rohitkumar\n",
      "chaudhari @br\n",
      "chaudhari @brochaudhari @brochaudhari @bro\n",
      "14\n",
      "10\n",
      "6\n",
      "0\n",
      "True\n",
      "False\n",
      "True\n",
      "False\n",
      "CHAUDHARI @BRO\n",
      "rohitkumar\n",
      "chaudhari @bro\n"
     ]
    }
   ],
   "source": [
    "a= \"Rohitkumar\"\n",
    "b=\"chaudhari @bro\"\n",
    "print(a.capitalize())\n",
    "print(a+b)\n",
    "print(b.count('a'))\n",
    "print(b[1:5])\n",
    "print(b[4:-3])\n",
    "print(a[4:-3])\n",
    "print(a[::])\n",
    "print(b[:-1])\n",
    "print(b*3)\n",
    "print(len(b))\n",
    "print(len(a))\n",
    "print(b.find('a',5,13))\n",
    "print(a.find('R'))\n",
    "print(b.islower())\n",
    "print(a.islower())\n",
    "print(a.isalpha())\n",
    "print(b.isalpha())\n",
    "print(b.upper())\n",
    "print(a.lower())\n",
    "print(b.lower())"
   ]
  },
  {
   "cell_type": "markdown",
   "metadata": {},
   "source": [
    "# Question 3:\n",
    "Write a Python program to check if the given string is a Palindrome or Anagram or None of them.\n",
    "Display the message accordingly to the user.\n"
   ]
  },
  {
   "cell_type": "markdown",
   "metadata": {},
   "source": [
    "# Question 4:\n",
    "Write a Python's user defined function that removes all the additional characters from the string\n",
    "and converts it finally to lower case using built-in lower(). eg: If the string is \"Dr. Darshan Ingle\n",
    "@AI-ML Trainer\", then the output be \"drdarshaningleaimltrainer\"."
   ]
  },
  {
   "cell_type": "code",
   "execution_count": 75,
   "metadata": {},
   "outputs": [
    {
     "name": "stdout",
     "output_type": "stream",
     "text": [
      "Original String : Ro;ikt * K:ma ! r;ch * a*u:d ! h **r i\n",
      "Resultant list is :RoiktKmarchaudhri\n"
     ]
    }
   ],
   "source": [
    "bad_chars = [';', ':', '!', \"*\",\" \"] \n",
    "  \n",
    "\n",
    "test_string = \"Ro;ikt * K:ma ! r;ch * a*u:d ! h **r i\"\n",
    "  \n",
    "print (\"Original String : \" + test_string) \n",
    "  \n",
    "for i in bad_chars : \n",
    "    test_string = test_string.replace(i,'')\n",
    "    \n",
    "print (\"Resultant list is :\" + str(test_string)) "
   ]
  },
  {
   "cell_type": "code",
   "execution_count": null,
   "metadata": {},
   "outputs": [],
   "source": []
  }
 ],
 "metadata": {
  "kernelspec": {
   "display_name": "Python 3",
   "language": "python",
   "name": "python3"
  },
  "language_info": {
   "codemirror_mode": {
    "name": "ipython",
    "version": 3
   },
   "file_extension": ".py",
   "mimetype": "text/x-python",
   "name": "python",
   "nbconvert_exporter": "python",
   "pygments_lexer": "ipython3",
   "version": "3.7.6"
  }
 },
 "nbformat": 4,
 "nbformat_minor": 4
}
