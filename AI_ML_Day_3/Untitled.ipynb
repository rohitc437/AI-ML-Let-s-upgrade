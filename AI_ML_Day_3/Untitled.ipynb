{
 "cells": [
  {
   "cell_type": "markdown",
   "metadata": {},
   "source": [
    "# Question 1 :\n",
    "Write a program to subtract two complex numbers in Python.\n"
   ]
  },
  {
   "cell_type": "code",
   "execution_count": 5,
   "metadata": {},
   "outputs": [
    {
     "name": "stdout",
     "output_type": "stream",
     "text": [
      "(3-5j)\n"
     ]
    }
   ],
   "source": [
    "a=3\n",
    "b=5jS\n",
    "c=a-b\n",
    "print(c)"
   ]
  },
  {
   "cell_type": "code",
   "execution_count": 6,
   "metadata": {},
   "outputs": [
    {
     "data": {
      "text/plain": [
       "complex"
      ]
     },
     "execution_count": 6,
     "metadata": {},
     "output_type": "execute_result"
    }
   ],
   "source": [
    "type(b)"
   ]
  },
  {
   "cell_type": "code",
   "execution_count": 7,
   "metadata": {},
   "outputs": [
    {
     "name": "stdout",
     "output_type": "stream",
     "text": [
      "(15-14j)\n"
     ]
    }
   ],
   "source": [
    "x=15\n",
    "y=14j\n",
    "z=x-y\n",
    "\n",
    "print(z)"
   ]
  },
  {
   "cell_type": "markdown",
   "metadata": {},
   "source": [
    "-------------------------------------------------------------------------------------------------------------------------------"
   ]
  },
  {
   "cell_type": "markdown",
   "metadata": {},
   "source": [
    "# Question 2 :\n",
    "Write a program to find the fourth root of a number.\n"
   ]
  },
  {
   "cell_type": "code",
   "execution_count": 9,
   "metadata": {},
   "outputs": [
    {
     "data": {
      "text/plain": [
       "16"
      ]
     },
     "execution_count": 9,
     "metadata": {},
     "output_type": "execute_result"
    }
   ],
   "source": [
    "2**4"
   ]
  },
  {
   "cell_type": "markdown",
   "metadata": {},
   "source": [
    "-------------------------------------------------------------------------------------------------------------------------------"
   ]
  },
  {
   "cell_type": "markdown",
   "metadata": {},
   "source": [
    "# Question 3:\n",
    "Write a program to swap two numbers in Python with the help of a temporary variable."
   ]
  },
  {
   "cell_type": "code",
   "execution_count": 12,
   "metadata": {},
   "outputs": [
    {
     "name": "stdout",
     "output_type": "stream",
     "text": [
      "Before swap value of A = 40\n",
      "Before swap value of B = 50\n",
      "After swap value of A = 50\n",
      "After swap value of B = 40\n"
     ]
    }
   ],
   "source": [
    "a=40\n",
    "b=50\n",
    "\n",
    "print(\"Before swap value of A =\",a)\n",
    "print(\"Before swap value of B =\",b)\n",
    "\n",
    "temp=a\n",
    "a=b\n",
    "b=temp\n",
    "\n",
    "print(\"After swap value of A =\",a)\n",
    "print(\"After swap value of B =\",b)\n"
   ]
  },
  {
   "cell_type": "markdown",
   "metadata": {},
   "source": [
    "-------------------------------------------------------------------------------------------------------------------------------"
   ]
  },
  {
   "cell_type": "markdown",
   "metadata": {},
   "source": [
    "# Question 4:\n",
    "Write a program to swap two numbers in Python without using a temporary variable.\n"
   ]
  },
  {
   "cell_type": "code",
   "execution_count": 13,
   "metadata": {},
   "outputs": [
    {
     "name": "stdout",
     "output_type": "stream",
     "text": [
      "Before swap value of A = 80\n",
      "Before swap value of B = 90\n",
      "After swap value of A = 90\n",
      "After swap value of B = 80\n"
     ]
    }
   ],
   "source": [
    "a=80\n",
    "b=90\n",
    "\n",
    "print(\"Before swap value of A =\",a)\n",
    "print(\"Before swap value of B =\",b)\n",
    "\n",
    "a, b =b, a\n",
    "\n",
    "\n",
    "print(\"After swap value of A =\",a)\n",
    "print(\"After swap value of B =\",b)\n"
   ]
  },
  {
   "cell_type": "markdown",
   "metadata": {},
   "source": [
    "-------------------------------------------------------------------------------------------------------------------------------"
   ]
  },
  {
   "cell_type": "markdown",
   "metadata": {},
   "source": [
    "# Question 5:\n",
    "Write a program to convert fahrenheit to kelvin and celsius both."
   ]
  },
  {
   "cell_type": "markdown",
   "metadata": {},
   "source": [
    "-------------------------------------------------------------------------------------------------------------------------------"
   ]
  },
  {
   "cell_type": "markdown",
   "metadata": {},
   "source": [
    "# Question 6:\n",
    "Write a program to demonstrate all the available data types in Python. Hint: Use type() function.\n"
   ]
  },
  {
   "cell_type": "code",
   "execution_count": 4,
   "metadata": {},
   "outputs": [
    {
     "name": "stdout",
     "output_type": "stream",
     "text": [
      "<class 'int'>\n",
      "<class 'float'>\n",
      "<class 'str'>\n",
      "<class 'tuple'>\n",
      "<class 'str'>\n",
      "<class 'complex'>\n",
      "<class 'list'>\n"
     ]
    }
   ],
   "source": [
    "a=10\n",
    "b=10.1\n",
    "c=\"Rohitkumar\"\n",
    "d=1,00,000\n",
    "e=\"a\"\n",
    "f=3-2j\n",
    "g=[1, 2, 3]\n",
    "print(type(a))\n",
    "print (type(b))\n",
    "print(type(c))\n",
    "print(type(d))\n",
    "print(type(e))\n",
    "print(type(f))\n",
    "print(type(g))"
   ]
  },
  {
   "cell_type": "markdown",
   "metadata": {},
   "source": [
    "-------------------------------------------------------------------------------------------------------------------------------"
   ]
  },
  {
   "cell_type": "markdown",
   "metadata": {},
   "source": [
    "# Question 7:\n",
    "Create a Markdown cell in jupyter and list the steps discussed in the session by Dr. Darshan\n",
    "Ingle sir to create Github profile and upload Githubs Assignment link."
   ]
  },
  {
   "cell_type": "markdown",
   "metadata": {},
   "source": [
    "# day 3 Agenda"
   ]
  },
  {
   "cell_type": "markdown",
   "metadata": {},
   "source": [
    "## Github"
   ]
  },
  {
   "cell_type": "markdown",
   "metadata": {},
   "source": [
    "* create a account on github.\n",
    "* go to - New \n",
    "* create new repositoery\n",
    "* upload existing file _just drang and drop_\n",
    "* Commite Changes"
   ]
  },
  {
   "cell_type": "code",
   "execution_count": null,
   "metadata": {},
   "outputs": [],
   "source": []
  }
 ],
 "metadata": {
  "kernelspec": {
   "display_name": "Python 3",
   "language": "python",
   "name": "python3"
  },
  "language_info": {
   "codemirror_mode": {
    "name": "ipython",
    "version": 3
   },
   "file_extension": ".py",
   "mimetype": "text/x-python",
   "name": "python",
   "nbconvert_exporter": "python",
   "pygments_lexer": "ipython3",
   "version": "3.7.6"
  }
 },
 "nbformat": 4,
 "nbformat_minor": 4
}
